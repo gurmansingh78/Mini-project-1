{
  "nbformat": 4,
  "nbformat_minor": 0,
  "metadata": {
    "colab": {
      "provenance": [],
      "authorship_tag": "ABX9TyO4xXMoqO+dZryd7JOM9SvE",
      "include_colab_link": true
    },
    "kernelspec": {
      "name": "python3",
      "display_name": "Python 3"
    },
    "language_info": {
      "name": "python"
    }
  },
  "cells": [
    {
      "cell_type": "markdown",
      "metadata": {
        "id": "view-in-github",
        "colab_type": "text"
      },
      "source": [
        "<a href=\"https://colab.research.google.com/github/gurmansingh78/Mini-project-1/blob/main/Basics%20of%20python.ipynb\" target=\"_parent\"><img src=\"https://colab.research.google.com/assets/colab-badge.svg\" alt=\"Open In Colab\"/></a>"
      ]
    },
    {
      "cell_type": "markdown",
      "source": [
        "# Q1. L is a list defined as L= [11, 12, 13, 14].\n"
      ],
      "metadata": {
        "id": "BzqThnT0nqv1"
      }
    },
    {
      "cell_type": "code",
      "execution_count": null,
      "metadata": {
        "id": "BeREPDiYnWCD"
      },
      "outputs": [],
      "source": [
        "# Initial list\n",
        "L = [11, 12, 13, 14]\n",
        "\n",
        "# (i) Add 50 and 60 to L\n",
        "L.append(50)\n",
        "L.append(60)\n",
        "\n",
        "# (ii) Remove 11 and 13 from L\n",
        "L.remove(11)\n",
        "L.remove(13)\n",
        "\n",
        "# (iii) Sort L in ascending order\n",
        "L.sort()\n",
        "\n",
        "# (iv) Sort L in descending order\n",
        "L.sort(reverse=True)\n",
        "\n",
        "# (v) Search for 13 in L\n",
        "if 13 in L:\n",
        "    print(\"13 is present in L\")\n",
        "else:\n",
        "    print(\"13 is not present in L\")\n",
        "\n",
        "# (vi) Count the number of elements in L\n",
        "print(\"Number of elements in L:\", len(L))\n",
        "\n",
        "# (vii) Sum all the elements in L\n",
        "print(\"Sum of all elements:\", sum(L))\n",
        "\n",
        "# (viii) Sum all ODD numbers in L\n",
        "sum_odd = sum(x for x in L if x % 2 != 0)\n",
        "print(\"Sum of odd numbers:\", sum_odd)\n",
        "\n",
        "# (ix) Sum all EVEN numbers in L\n",
        "sum_even = sum(x for x in L if x % 2 == 0)\n",
        "print(\"Sum of even numbers:\", sum_even)\n",
        "\n",
        "# (x) Sum all PRIME numbers in L\n",
        "def isPrime(n):\n",
        "    if n <= 1:\n",
        "        return False\n",
        "    for i in range(2, int(n**0.5)+1):\n",
        "        if n % i == 0:\n",
        "            return False\n",
        "    return True\n",
        "\n",
        "sum_primes = sum(x for x in L if isPrime(x))\n",
        "print(\"Sum of prime numbers:\", sum_primes)\n",
        "\n",
        "# (xi) Clear all elements in L\n",
        "L.clear()\n",
        "\n",
        "# (xii) Delete L\n",
        "del L\n"
      ]
    },
    {
      "cell_type": "markdown",
      "source": [
        "# Q2. D is a dictionary defined as {1:5.6, 2:7.8, 3:6.6, 4:8.7, 5:7.7}."
      ],
      "metadata": {
        "id": "BSv8L0uMpbHa"
      }
    },
    {
      "cell_type": "code",
      "source": [
        "# Initial dictionary\n",
        "D = {1: 5.6, 2: 7.8, 3: 6.6, 4: 8.7, 5: 7.7}\n",
        "\n",
        "# (i) Add new entry: key=8, value=8.8\n",
        "D[8] = 8.8\n",
        "\n",
        "# (ii) Remove key=2\n",
        "D.pop(2, None)\n",
        "\n",
        "# (iii) Check if key 6 is present\n",
        "print(\"Key 6 is present in D\" if 6 in D else \"Key 6 is not present in D\")\n",
        "\n",
        "# (iv) Count number of elements\n",
        "print(\"Number of elements in D:\", len(D))\n",
        "\n",
        "# (v) Sum of all values\n",
        "print(\"Sum of values in D:\", sum(D.values()))\n",
        "\n",
        "# (vi) Update value of key 3 to 7.1\n",
        "D[3] = 7.1\n",
        "\n",
        "# (vii) Clear the dictionary\n",
        "D.clear()"
      ],
      "metadata": {
        "id": "bKiQSVQjpmwS"
      },
      "execution_count": null,
      "outputs": []
    },
    {
      "cell_type": "markdown",
      "source": [
        "# Q3. Sl is a set defined as [10, 20, 30, 40, 50, 60].   \n",
        "# S2 is a set defined as [40, 50, 60, 70, 80, 90]."
      ],
      "metadata": {
        "id": "vOyC0gJWpuhN"
      }
    },
    {
      "cell_type": "code",
      "source": [
        "# Define sets\n",
        "S1 = {10, 20, 30, 40, 50, 60}\n",
        "S2 = {40, 50, 60, 70, 80, 90}\n",
        "\n",
        "# (i) Add 55 and 66 in Set S1\n",
        "S1.add(55)\n",
        "S1.add(66)\n",
        "print(\"After adding 55 and 66 to S1:\", S1)\n",
        "\n",
        "# (ii) Remove 10 and 30 from Set S1\n",
        "S1.discard(10)\n",
        "S1.discard(30)\n",
        "print(\"After removing 10 and 30 from S1:\", S1)\n",
        "\n",
        "# (iii) Check whether 40 is present in S1\n",
        "print(\"Is 40 present in S1?\", 40 in S1)\n",
        "\n",
        "# (iv) Union of S1 and S2\n",
        "union_set = S1.union(S2)\n",
        "print(\"Union of S1 and S2:\", union_set)\n",
        "\n",
        "# (v) Intersection of S1 and S2\n",
        "intersection_set = S1.intersection(S2)\n",
        "print(\"Intersection of S1 and S2:\", intersection_set)\n",
        "\n",
        "# (vi) Difference S1 - S2\n",
        "difference_set = S1.difference(S2)\n",
        "print(\"S1 - S2:\", difference_set)\n"
      ],
      "metadata": {
        "colab": {
          "base_uri": "https://localhost:8080/"
        },
        "id": "jiGIcLIdqR7c",
        "outputId": "2bf54eec-2363-43d5-df38-65bd6c003862"
      },
      "execution_count": null,
      "outputs": [
        {
          "output_type": "stream",
          "name": "stdout",
          "text": [
            "After adding 55 and 66 to S1: {50, 66, 20, 55, 40, 10, 60, 30}\n",
            "After removing 10 and 30 from S1: {50, 66, 20, 55, 40, 60}\n",
            "Is 40 present in S1? True\n",
            "Union of S1 and S2: {66, 70, 40, 80, 50, 20, 55, 90, 60}\n",
            "Intersection of S1 and S2: {40, 50, 60}\n",
            "S1 - S2: {66, 20, 55}\n"
          ]
        }
      ]
    },
    {
      "cell_type": "markdown",
      "source": [
        "# Q4.1.WAP to print 100 random strings whose length between 6 and 8."
      ],
      "metadata": {
        "id": "0NSTjqR4q0-I"
      }
    },
    {
      "cell_type": "code",
      "source": [
        "import random\n",
        "import string\n",
        "\n",
        "print(\"100 Random Strings:\")\n",
        "for _ in range(100):\n",
        "    length = random.randint(6, 8)\n",
        "    rand_str = ''.join(random.choices(string.ascii_letters + string.digits, k=length))\n",
        "    print(rand_str)"
      ],
      "metadata": {
        "colab": {
          "base_uri": "https://localhost:8080/"
        },
        "id": "HSe5MSVKrEtn",
        "outputId": "64c14e41-efdc-4569-d13f-aadee796b14f"
      },
      "execution_count": null,
      "outputs": [
        {
          "output_type": "stream",
          "name": "stdout",
          "text": [
            "100 Random Strings:\n",
            "mHfDTSZN\n",
            "bKxXhHdK\n",
            "WGRa98\n",
            "pOR0upgl\n",
            "blcjiuS\n",
            "S7OgJhdV\n",
            "knvB4Q\n",
            "cRWio6\n",
            "k4GyHYbZ\n",
            "e3jqPaBl\n",
            "VdhwPA\n",
            "pNIPam\n",
            "sTjnGWWL\n",
            "xAywc6\n",
            "3UteDI\n",
            "ZKfUPV\n",
            "NOTTFKxv\n",
            "e3dHUQ6\n",
            "375pBZf\n",
            "FDfQuT\n",
            "6TTqOp6q\n",
            "qH4SlU\n",
            "C4ZKrkut\n",
            "YKOkcs\n",
            "zgSKuCKr\n",
            "u4EYyrM\n",
            "fW9G8hk\n",
            "ulieeWa\n",
            "fJ0dnDtb\n",
            "NwdQULkg\n",
            "P9hwZu\n",
            "c7CTvdmu\n",
            "UWltYh77\n",
            "lGpNHJKH\n",
            "JR0Bzm3\n",
            "tDcOsS\n",
            "XF7GS5H\n",
            "kLjZYB7i\n",
            "z1Eid0FO\n",
            "MmA4pY\n",
            "2oiKysXo\n",
            "P9tYHWJ\n",
            "s7qiDN\n",
            "jS2dK7\n",
            "NYfNXBHW\n",
            "sINdfq\n",
            "8GClXQi\n",
            "rIJhAV\n",
            "pge58n83\n",
            "fLq4HJ\n",
            "oDKjZG\n",
            "4arWMDP\n",
            "Wj4xbhK\n",
            "E1V7yB\n",
            "937XLWnh\n",
            "ahKnAe\n",
            "TIK323b\n",
            "VAvmv0\n",
            "5oZHARSx\n",
            "uRjj0Dvo\n",
            "iLjyfM\n",
            "akTBAnS\n",
            "GUEVAOH\n",
            "3fvzUuj\n",
            "L5c9JZ4\n",
            "wtrDHq7\n",
            "ZbyoeC\n",
            "E3X5Mq\n",
            "hyMeGU\n",
            "H4HwOnm9\n",
            "Hjebql\n",
            "2wC8OY9\n",
            "xLVVWhv\n",
            "kRPzhv\n",
            "mgIjxD\n",
            "EKQ5xE\n",
            "fxMvlZ\n",
            "qQgDKG\n",
            "SCL5XRj\n",
            "88V7PK\n",
            "fNMcark\n",
            "HJuMLx\n",
            "Ghx5ExC\n",
            "l3pqdGVA\n",
            "b9uLd9h\n",
            "SJW15x\n",
            "txBS4llH\n",
            "nKmxZ1wx\n",
            "X7m2k9\n",
            "Pw6zIqT\n",
            "TT9fu3zQ\n",
            "0itdnl\n",
            "2eP0yim\n",
            "1gmxRXdy\n",
            "Mx6Z5VF\n",
            "fBEGt1Db\n",
            "bMD2uyr7\n",
            "lguvNu9\n",
            "3PGh3Y\n",
            "1KT85T5\n"
          ]
        }
      ]
    },
    {
      "cell_type": "markdown",
      "source": [
        "# 4.2.WAP to print all prime numbers between 600 and 800."
      ],
      "metadata": {
        "id": "tR2c6k4FrPuN"
      }
    },
    {
      "cell_type": "code",
      "source": [
        "def is_prime(n):\n",
        "    if n <= 1:\n",
        "        return False\n",
        "    for i in range(2, int(n**0.5) + 1):\n",
        "        if n % i == 0:\n",
        "            return False\n",
        "    return True\n",
        "\n",
        "print(\"\\nPrime numbers between 600 and 800:\")\n",
        "for num in range(600, 801):\n",
        "    if is_prime(num):\n",
        "        print(num, end=\" \")"
      ],
      "metadata": {
        "colab": {
          "base_uri": "https://localhost:8080/"
        },
        "id": "wm3s_8G1sJAe",
        "outputId": "6500a4bd-ed23-4c23-b008-f7d1fbe23d09"
      },
      "execution_count": null,
      "outputs": [
        {
          "output_type": "stream",
          "name": "stdout",
          "text": [
            "\n",
            "Prime numbers between 600 and 800:\n",
            "601 607 613 617 619 631 641 643 647 653 659 661 673 677 683 691 701 709 719 727 733 739 743 751 757 761 769 773 787 797 "
          ]
        }
      ]
    },
    {
      "cell_type": "markdown",
      "source": [
        "# Q4.3.WAP to print all numbers between 100 and 1000 that are divisible by 7 and 9."
      ],
      "metadata": {
        "id": "KQ4y3mR4sgyy"
      }
    },
    {
      "cell_type": "code",
      "source": [
        "print(\"\\n\\nNumbers divisible by 7 and 9 between 100 and 1000:\")\n",
        "for num in range(100, 1001):\n",
        "    if num % 7 == 0 and num % 9 == 0:\n",
        "        print(num, end=\" \")"
      ],
      "metadata": {
        "colab": {
          "base_uri": "https://localhost:8080/"
        },
        "id": "mtY59C7_su8m",
        "outputId": "b4d0327d-89f2-41a8-a6e9-d98b8244c1bf"
      },
      "execution_count": null,
      "outputs": [
        {
          "output_type": "stream",
          "name": "stdout",
          "text": [
            "\n",
            "\n",
            "Numbers divisible by 7 and 9 between 100 and 1000:\n",
            "126 189 252 315 378 441 504 567 630 693 756 819 882 945 "
          ]
        }
      ]
    },
    {
      "cell_type": "markdown",
      "source": [
        "# Q5. WAP to create two lists of 10 random numbers between 10 and 30; Find\n",
        "# (i) Common numbers in the two lists\n",
        "# (ii) Unique numbers in both the list\n",
        "# (iii) Minimum in both the lists\n",
        "# (iv) Maximum in both the lists\n",
        "# (v) Sum of both the lists\n",
        "\n"
      ],
      "metadata": {
        "id": "d_Ck8HfNtLpw"
      }
    },
    {
      "cell_type": "code",
      "source": [
        "import random\n",
        "\n",
        "# Two random lists of numbers between 10 and 30\n",
        "list1 = random.sample(range(10, 31), 10)\n",
        "list2 = random.sample(range(10, 31), 10)\n",
        "\n",
        "print(\"\\nList 1:\", list1)\n",
        "print(\"List 2:\", list2)\n",
        "\n",
        "# (i) Common numbers\n",
        "common = list(set(list1) & set(list2))\n",
        "print(\"Common numbers:\", common)\n",
        "\n",
        "# (ii) Unique numbers\n",
        "unique = list(set(list1) ^ set(list2))\n",
        "print(\"Unique numbers:\", unique)\n",
        "\n",
        "# (iii) Minimum in both lists\n",
        "print(\"Minimum in List 1:\", min(list1))\n",
        "print(\"Minimum in List 2:\", min(list2))\n",
        "\n",
        "# (iv) Maximum in both lists\n",
        "print(\"Maximum in List 1:\", max(list1))\n",
        "print(\"Maximum in List 2:\", max(list2))\n",
        "\n",
        "# (v) Sum of both lists\n",
        "print(\"Sum of List 1:\", sum(list1))\n",
        "print(\"Sum of List 2:\", sum(list2))"
      ],
      "metadata": {
        "colab": {
          "base_uri": "https://localhost:8080/"
        },
        "id": "YtOqwdlytzIa",
        "outputId": "88a70ea7-bd73-4956-be65-7ac37c341835"
      },
      "execution_count": null,
      "outputs": [
        {
          "output_type": "stream",
          "name": "stdout",
          "text": [
            "\n",
            "List 1: [27, 14, 17, 10, 12, 16, 15, 30, 23, 18]\n",
            "List 2: [23, 17, 15, 13, 25, 20, 29, 10, 27, 30]\n",
            "Common numbers: [10, 15, 17, 23, 27, 30]\n",
            "Unique numbers: [12, 13, 14, 16, 18, 20, 25, 29]\n",
            "Minimum in List 1: 10\n",
            "Minimum in List 2: 10\n",
            "Maximum in List 1: 30\n",
            "Maximum in List 2: 30\n",
            "Sum of List 1: 182\n",
            "Sum of List 2: 209\n"
          ]
        }
      ]
    },
    {
      "cell_type": "markdown",
      "source": [
        "# Q6. WAP to create a list of 100 random numbers between 100 and 900. Count and print the:\n",
        "# (i) All odd numbers\n",
        "# (ii) All even numbers\n",
        "# (iii) All prime numbers"
      ],
      "metadata": {
        "id": "a0tXcBZVuzpZ"
      }
    },
    {
      "cell_type": "code",
      "source": [
        "import random\n",
        "\n",
        "# Generate list\n",
        "nums = [random.randint(100, 900) for _ in range(100)]\n",
        "\n",
        "# (i) Odd numbers\n",
        "odd_nums = [n for n in nums if n % 2 != 0]\n",
        "print(\"Odd Numbers Count:\", len(odd_nums))\n",
        "print(\"Odd Numbers:\", odd_nums)\n",
        "\n",
        "# (ii) Even numbers\n",
        "even_nums = [n for n in nums if n % 2 == 0]\n",
        "print(\"\\nEven Numbers Count:\", len(even_nums))\n",
        "print(\"Even Numbers:\", even_nums)\n",
        "\n",
        "# (iii) Prime numbers\n",
        "def is_prime(n):\n",
        "    if n < 2:\n",
        "        return False\n",
        "    for i in range(2, int(n**0.5)+1):\n",
        "        if n % i == 0:\n",
        "            return False\n",
        "    return True\n",
        "\n",
        "prime_nums = [n for n in nums if is_prime(n)]\n",
        "print(\"\\nPrime Numbers Count:\", len(prime_nums))\n",
        "print(\"Prime Numbers:\", prime_nums)"
      ],
      "metadata": {
        "colab": {
          "base_uri": "https://localhost:8080/"
        },
        "id": "PPQrAznmwTUW",
        "outputId": "851740bc-74b5-43ff-98a2-f9f11dd33df2"
      },
      "execution_count": null,
      "outputs": [
        {
          "output_type": "stream",
          "name": "stdout",
          "text": [
            "Odd Numbers Count: 56\n",
            "Odd Numbers: [451, 589, 491, 693, 259, 169, 813, 485, 747, 465, 463, 111, 373, 293, 723, 455, 625, 657, 491, 649, 691, 169, 773, 723, 731, 859, 819, 655, 637, 733, 325, 593, 437, 881, 771, 747, 853, 247, 691, 533, 827, 317, 205, 467, 427, 491, 151, 355, 305, 201, 409, 601, 641, 865, 867, 471]\n",
            "\n",
            "Even Numbers Count: 44\n",
            "Even Numbers: [480, 374, 376, 322, 124, 828, 288, 538, 212, 400, 186, 448, 400, 338, 238, 700, 102, 368, 662, 756, 890, 444, 696, 404, 324, 224, 586, 232, 410, 486, 154, 664, 784, 116, 266, 898, 118, 136, 490, 630, 466, 816, 594, 670]\n",
            "\n",
            "Prime Numbers Count: 21\n",
            "Prime Numbers: [491, 463, 373, 293, 491, 691, 773, 859, 733, 593, 881, 853, 691, 827, 317, 467, 491, 151, 409, 601, 641]\n"
          ]
        }
      ]
    },
    {
      "cell_type": "markdown",
      "source": [
        "# Q7. D is a dictionary defined as D={1:\"one\",2:\"two\",3:\"three\",4:\"four\",5:\"five\"}.\n",
        "# WAP to read all the keys and values from dictionary and write to the file in the given below format.\n",
        "# Keyl, Value1\n",
        "# Key2, Value2\n",
        "# Key3, Value3"
      ],
      "metadata": {
        "id": "TWJhikOBwZTI"
      }
    },
    {
      "cell_type": "code",
      "source": [
        "\n",
        "\n",
        "D = {1: \"One\", 2: \"Two\", 3: \"Three\", 4: \"Four\", 5: \"Five\"}\n",
        "\n",
        "with open(\"dict_output.txt\", \"w\") as f:\n",
        "    for k, v in D.items():\n",
        "        f.write(f\"{k}, {v}\\n\")"
      ],
      "metadata": {
        "id": "6xA2LoE_xrIK"
      },
      "execution_count": null,
      "outputs": []
    },
    {
      "cell_type": "markdown",
      "source": [
        "# Q8. L is a list defined as L= {\"One\", \"Two\", \"Three\", \"Four\", \"Five\"}.\n",
        "# WAP to count the length of reach element from a list and write to the file in the given below format:\n",
        "# One, 3\n",
        "# Two, 3\n",
        "# Four, 4"
      ],
      "metadata": {
        "id": "D67eNwC1yGWT"
      }
    },
    {
      "cell_type": "code",
      "source": [
        "L = [\"One\", \"Two\", \"Three\", \"Four\", \"Five\"]\n",
        "\n",
        "with open(\"length_output.txt\", \"w\") as f:\n",
        "    for word in L:\n",
        "        f.write(f\"{word}, {len(word)}\\n\")"
      ],
      "metadata": {
        "id": "ADgsiEJK3xCu"
      },
      "execution_count": null,
      "outputs": []
    },
    {
      "cell_type": "markdown",
      "source": [
        "# Q9. Write to the file 100 random strings whose length between 10 and 15."
      ],
      "metadata": {
        "id": "z9JxQtQa34Me"
      }
    },
    {
      "cell_type": "code",
      "source": [
        "import random\n",
        "import string\n",
        "\n",
        "with open(\"random_strings.txt\", \"w\") as f:\n",
        "    for _ in range(100):\n",
        "        length = random.randint(10, 15)\n",
        "        rand_str = ''.join(random.choices(string.ascii_letters + string.digits, k=length))\n",
        "        f.write(rand_str + \"\\n\")"
      ],
      "metadata": {
        "id": "5miwfxUu4KGa"
      },
      "execution_count": null,
      "outputs": []
    },
    {
      "cell_type": "markdown",
      "source": [
        "# Q10. Write to the file all prime numbers between 600 and 800."
      ],
      "metadata": {
        "id": "5puyNVda4UPB"
      }
    },
    {
      "cell_type": "code",
      "source": [
        "# Sum all PRIME numbers in L\n",
        "def isPrime(n):\n",
        "    if n <= 1:\n",
        "        return False\n",
        "    for i in range(2, int(n**0.5)+1):\n",
        "        if n % i == 0:\n",
        "            return False\n",
        "    return True\n",
        "\n",
        "with open(\"prime_600_800.txt\", \"w\") as f:\n",
        "    for num in range(600, 801):\n",
        "        if isPrime(num):\n",
        "            f.write(str(num) + \"\\n\")"
      ],
      "metadata": {
        "id": "4BYfy6Tn4YBw"
      },
      "execution_count": null,
      "outputs": []
    },
    {
      "cell_type": "markdown",
      "source": [
        "# Q11. WAP to calculate the time taken by a program."
      ],
      "metadata": {
        "id": "8n6KVPvc4e-N"
      }
    },
    {
      "cell_type": "code",
      "source": [
        "import time\n",
        "\n",
        "start_time = time.time()\n",
        "\n",
        "total = sum([i for i in range(1000000)])\n",
        "\n",
        "end_time = time.time()\n",
        "\n",
        "print(f\"Time taken by program: {end_time - start_time:.4f} seconds\")"
      ],
      "metadata": {
        "colab": {
          "base_uri": "https://localhost:8080/"
        },
        "id": "XQMXkPgk4pf6",
        "outputId": "de24b944-52d0-4509-b940-03efa25d96e0"
      },
      "execution_count": null,
      "outputs": [
        {
          "output_type": "stream",
          "name": "stdout",
          "text": [
            "Time taken by program: 0.0762 seconds\n"
          ]
        }
      ]
    },
    {
      "cell_type": "markdown",
      "source": [
        "QI 2. WAP to sort following number of elements in a list, calculate time taken and plot the graph.\n",
        "Number of elements in list time taken\n",
        "5k  T1                              \n",
        "10k T2\n",
        "15k T3\n",
        "20k T4\n",
        "25k T5\n"
      ],
      "metadata": {
        "id": "7h-hirkt4xi5"
      }
    },
    {
      "cell_type": "code",
      "source": [
        "import time\n",
        "import random\n",
        "import matplotlib.pyplot as plt\n",
        "\n",
        "sizes = [5000, 10000, 15000, 20000, 25000]\n",
        "times = []\n",
        "\n",
        "for size in sizes:\n",
        "    data = [random.randint(1, 100000) for _ in range(size)]\n",
        "    start = time.time()\n",
        "    data.sort()\n",
        "    end = time.time()\n",
        "    times.append(end - start)\n",
        "\n",
        "# Plotting\n",
        "plt.plot(sizes, times, marker='o')\n",
        "plt.title(\"List Sorting Time Complexity\")\n",
        "plt.xlabel(\"Number of Elements\")\n",
        "plt.ylabel(\"Time Taken (seconds)\")\n",
        "plt.grid(True)\n",
        "plt.show()"
      ],
      "metadata": {
        "colab": {
          "base_uri": "https://localhost:8080/",
          "height": 472
        },
        "id": "Hmt7zLrUGuuw",
        "outputId": "47354f64-5a91-4236-ab1c-ac341d10f957"
      },
      "execution_count": null,
      "outputs": [
        {
          "output_type": "display_data",
          "data": {
            "text/plain": [
              "<Figure size 640x480 with 1 Axes>"
            ],
            "image/png": "[encoded data removed]"
          },
          "metadata": {}
        }
      ]
    },
    {
      "cell_type": "markdown",
      "source": [
        "# Q13. WAP to create a dictionary of student marks in five subjects and you have to find the student having maximum and minimum average marks."
      ],
      "metadata": {
        "id": "OdccBpoMGzer"
      }
    },
    {
      "cell_type": "code",
      "source": [
        "students = {\n",
        "    \"A\": [88, 90, 76, 85, 92],\n",
        "    \"B\": [78, 81, 74, 69, 80],\n",
        "    \"C\": [90, 95, 91, 89, 93],\n",
        "    \"D\": [60, 70, 65, 75, 68]\n",
        "}\n",
        "\n",
        "averages = {k: sum(v)/len(v) for k, v in students.items()}\n",
        "\n",
        "max_student = max(averages, key=averages.get)\n",
        "min_student = min(averages, key=averages.get)\n",
        "\n",
        "print(\"Maximum average:\", max_student, averages[max_student])\n",
        "print(\"Minimum average:\", min_student, averages[min_student])"
      ],
      "metadata": {
        "colab": {
          "base_uri": "https://localhost:8080/"
        },
        "id": "4m-r0WL6HB0S",
        "outputId": "1c344737-98d8-448c-a82e-972ee5747951"
      },
      "execution_count": null,
      "outputs": [
        {
          "output_type": "stream",
          "name": "stdout",
          "text": [
            "Maximum average: C 91.6\n",
            "Minimum average: D 67.6\n"
          ]
        }
      ]
    }
  ]
}